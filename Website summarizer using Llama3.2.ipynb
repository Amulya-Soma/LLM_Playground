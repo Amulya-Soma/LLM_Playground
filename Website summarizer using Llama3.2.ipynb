{
 "cells": [
  {
   "cell_type": "code",
   "execution_count": 3,
   "id": "88f2bec5-7142-4d95-9d97-e3025e73b5ef",
   "metadata": {},
   "outputs": [],
   "source": [
    "# imports\n",
    "\n",
    "import os\n",
    "import requests\n",
    "from dotenv import load_dotenv\n",
    "from bs4 import BeautifulSoup\n",
    "from IPython.display import Markdown, display\n",
    "import ollama"
   ]
  },
  {
   "cell_type": "code",
   "execution_count": 4,
   "id": "e26c52fe-4e8b-4d92-9896-9d4ac5e4a133",
   "metadata": {},
   "outputs": [],
   "source": [
    "def get_webpage_text(url):\n",
    "    try:\n",
    "        response = requests.get(url, timeout=10)\n",
    "        response.raise_for_status()\n",
    "        soup = BeautifulSoup(response.text, \"html.parser\")\n",
    "        return ' '.join([p.get_text() for p in soup.find_all(\"p\")])\n",
    "    except requests.exceptions.RequestException as e:\n",
    "        return f\"Error fetching content: {e}\""
   ]
  },
  {
   "cell_type": "code",
   "execution_count": 5,
   "id": "af7a1a59-ead6-4be9-9ee0-8436a357ddb4",
   "metadata": {},
   "outputs": [],
   "source": [
    "def summarize_text(text, model=\"llama3.2\"):\n",
    "    system_prompt = \"Give bullet point precise, concise details about the text provided. Focus on the informative, important details.\"\n",
    "    user_prompt = f\"Summarize the following webpage content:\\n\\n{text}\"\n",
    "    response = ollama.chat(model=model, messages=[\n",
    "        {\"role\": \"system\", \"content\": system_prompt},\n",
    "        {\"role\": \"user\", \"content\": user_prompt}\n",
    "    ])\n",
    "    return response[\"message\"][\"content\"]"
   ]
  },
  {
   "cell_type": "code",
   "execution_count": 8,
   "id": "de75afd4-7044-4cd8-9976-c275dcd5014d",
   "metadata": {},
   "outputs": [
    {
     "name": "stdin",
     "output_type": "stream",
     "text": [
      "Enter the webpage URL:  https://www.w3schools.com\n"
     ]
    },
    {
     "name": "stdout",
     "output_type": "stream",
     "text": [
      "\n",
      "Summary:\n",
      " Here are the main points from the webpage content in bullet form:\n",
      "\n",
      "* W3Schools offers:\n",
      "  • Free tutorials for learning new skills\n",
      "  • References covering popular coding languages\n",
      "  • A free website builder (W3Schools Spaces) with no setup required\n",
      "  • Code editor to edit and view code results\n",
      "  • Online exercises, quizzes, and games\n",
      "  • Rewards tracking system\n",
      "  • Ad-free browsing for PLUS users\n",
      "\n",
      "* Features:\n",
      "  • Responsive website templates\n",
      "  • Python, PHP, React.js, Node.js, Java, C#, etc. server creation\n",
      "  • Large collection of code snippets (HTML, CSS, JavaScript)\n",
      "  • Free W3.CSS framework\n",
      "  • Browser usage trend analysis\n",
      "  • Typing speed test\n",
      "  • Color picker\n",
      "\n",
      "* Support and resources:\n",
      "  • Sales email: sales@w3schools.com\n",
      "  • Error report email: help@w3schools.com\n",
      "  • W3Schools Academy for educational institutions and organizations\n"
     ]
    }
   ],
   "source": [
    "def main():\n",
    "    url = input(\"Enter the webpage URL: \")\n",
    "    text = get_webpage_text(url)\n",
    "    if text and not text.startswith(\"Error\"):\n",
    "        summary = summarize_text(text)\n",
    "        print(\"\\nSummary:\\n\", summary)\n",
    "    else:\n",
    "        print(\"Failed to retrieve content from the webpage.\")\n",
    "\n",
    "if __name__ == \"__main__\":\n",
    "    main()"
   ]
  },
  {
   "cell_type": "code",
   "execution_count": null,
   "id": "8101c2a3-8d1d-4dec-a1eb-126a9d126cf8",
   "metadata": {},
   "outputs": [],
   "source": []
  }
 ],
 "metadata": {
  "kernelspec": {
   "display_name": "Python 3 (ipykernel)",
   "language": "python",
   "name": "python3"
  },
  "language_info": {
   "codemirror_mode": {
    "name": "ipython",
    "version": 3
   },
   "file_extension": ".py",
   "mimetype": "text/x-python",
   "name": "python",
   "nbconvert_exporter": "python",
   "pygments_lexer": "ipython3",
   "version": "3.11.11"
  }
 },
 "nbformat": 4,
 "nbformat_minor": 5
}
